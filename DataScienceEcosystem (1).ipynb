{
 "cells": [
  {
   "cell_type": "markdown",
   "id": "fbf48861-a6ac-47b1-a121-92ce6c6cc595",
   "metadata": {},
   "source": [
    "# Data Science Tools and Ecosystem\n"
   ]
  },
  {
   "cell_type": "markdown",
   "id": "b6139c9d-9438-429a-87a0-ce6e7c69b9bf",
   "metadata": {},
   "source": [
    "In this notebook, Data Science Tools and Ecosystem are summarized."
   ]
  },
  {
   "cell_type": "markdown",
   "id": "1437aa68-42c0-4c74-8dbf-ae87c8d91124",
   "metadata": {},
   "source": [
    "Objectives:\n",
    "- List popular languages for Data Science\n",
    "- commonly used libraries used by Data Scientists\n",
    "- know common Data science tools"
   ]
  },
  {
   "cell_type": "markdown",
   "id": "b5673c26-da9b-417c-83be-dfe5cfc000c3",
   "metadata": {},
   "source": [
    "Some of the popular languages that Data Scientists use are:\n",
    "1. python\n",
    "2. R\n",
    "3. SQL\n"
   ]
  },
  {
   "cell_type": "markdown",
   "id": "67dfe583-c02c-430b-81b1-31d1f44f1ed5",
   "metadata": {},
   "source": [
    "Some of the commonly used libraries used by Data Scientists include:\n",
    "1. numpy \n",
    "2. pandas\n",
    "3. seaborn"
   ]
  },
  {
   "cell_type": "markdown",
   "id": "062faed2-7dc1-4888-9b91-42704c7b76da",
   "metadata": {},
   "source": [
    "| Data science tools || |\n",
    "|:--------:|:--------:|:--------:|\n",
    "|jupyter notebook | Rstudio | VS code |"
   ]
  },
  {
   "cell_type": "markdown",
   "id": "173b588b-63aa-4e20-a7a0-3eb4f1ca9e47",
   "metadata": {},
   "source": [
    "## Author\n",
    "Yasmine Gabreil"
   ]
  },
  {
   "cell_type": "markdown",
   "id": "1c5fc1dc-8048-4263-a504-4a67b2ec0f66",
   "metadata": {},
   "source": [
    "### Below are a few examples of evaluating arithmetic expressions in Python"
   ]
  },
  {
   "cell_type": "code",
   "execution_count": 10,
   "id": "427217e2-3e7d-4962-a3cf-8ed1b01176c9",
   "metadata": {},
   "outputs": [
    {
     "data": {
      "text/plain": [
       "17"
      ]
     },
     "execution_count": 10,
     "metadata": {},
     "output_type": "execute_result"
    }
   ],
   "source": [
    "# multiplication executive\n",
    "(3*4)+5\n",
    "#  This a simple arithmetic expression to mutiply then add integers"
   ]
  },
  {
   "cell_type": "code",
   "execution_count": 1,
   "id": "4e1c3361-08bc-4759-9dbb-26ebbc0fed5e",
   "metadata": {},
   "outputs": [
    {
     "name": "stdout",
     "output_type": "stream",
     "text": [
      "200 minutes is equal to 3.3333333333333335 hours.\n"
     ]
    }
   ],
   "source": [
    "# This will convert 200 minutes to hours by diving by 60.\n",
    "total_minutes = 200\n",
    "hours = total_minutes / 60\n",
    "print(f\"{total_minutes} minutes is equal to {hours} hours.\")"
   ]
  },
  {
   "cell_type": "code",
   "execution_count": null,
   "id": "71b92841-6c85-4a0a-975b-f52a97672e7e",
   "metadata": {},
   "outputs": [],
   "source": []
  }
 ],
 "metadata": {
  "kernelspec": {
   "display_name": "Python 3 (ipykernel)",
   "language": "python",
   "name": "python3"
  },
  "language_info": {
   "codemirror_mode": {
    "name": "ipython",
    "version": 3
   },
   "file_extension": ".py",
   "mimetype": "text/x-python",
   "name": "python",
   "nbconvert_exporter": "python",
   "pygments_lexer": "ipython3",
   "version": "3.9.24"
  }
 },
 "nbformat": 4,
 "nbformat_minor": 5
}
